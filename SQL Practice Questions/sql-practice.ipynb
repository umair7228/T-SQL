{
 "cells": [
  {
   "attachments": {},
   "cell_type": "markdown",
   "id": "b540cf11-7b3d-4894-b8cb-df06ce8a76bf",
   "metadata": {},
   "source": [
    "# Intermediate SQL"
   ]
  },
  {
   "cell_type": "code",
   "execution_count": 1,
   "id": "647d616a-642d-47f5-a703-64f8b5e3641d",
   "metadata": {
    "chartConfig": {
     "bar": {
      "hasRoundedCorners": true,
      "stacked": false
     },
     "type": "bar",
     "version": "v1"
    },
    "customType": "sql",
    "dataFrameVariableName": "query",
    "executionCancelledAt": null,
    "executionTime": 1028,
    "lastExecutedAt": 1726290686030,
    "lastExecutedByKernel": "155abfa5-0ca3-465c-b3b5-19fe346775d6",
    "lastScheduledRunId": null,
    "lastSuccessfullyExecutedCode": "",
    "sqlCellMode": "query",
    "sqlSource": {
     "integrationId": "c632441c-e1dc-4637-a56d-10b85efd89be",
     "type": "integration"
    },
    "visualizeDataframe": false
   },
   "outputs": [
    {
     "@datacamp/metadata": {
      "executedQuery": "",
      "executedQueryParameters": []
     },
     "data": {
      "application/com.datacamp.data-table.v2+json": {
       "table": {
        "data": {
         "index": []
        },
        "schema": {
         "fields": [
          {
           "name": "index",
           "type": "string"
          }
         ],
         "pandas_version": "1.4.0",
         "primaryKey": [
          "index"
         ]
        }
       },
       "total_rows": 0,
       "truncation_type": null
      },
      "text/html": [
       "<div>\n",
       "<style scoped>\n",
       "    .dataframe tbody tr th:only-of-type {\n",
       "        vertical-align: middle;\n",
       "    }\n",
       "\n",
       "    .dataframe tbody tr th {\n",
       "        vertical-align: top;\n",
       "    }\n",
       "\n",
       "    .dataframe thead th {\n",
       "        text-align: right;\n",
       "    }\n",
       "</style>\n",
       "<table border=\"1\" class=\"dataframe\">\n",
       "  <thead>\n",
       "    <tr style=\"text-align: right;\">\n",
       "      <th></th>\n",
       "    </tr>\n",
       "  </thead>\n",
       "  <tbody>\n",
       "  </tbody>\n",
       "</table>\n",
       "</div>"
      ],
      "text/plain": [
       "Empty DataFrame\n",
       "Columns: []\n",
       "Index: []"
      ]
     },
     "execution_count": 1,
     "metadata": {},
     "output_type": "execute_result"
    }
   ],
   "source": [
    "SELECT title, release_year\n",
    "FROM films\n",
    "WHERE (release_year = 1990 OR release_year = 1999)\n",
    "\tAND (language = 'English' OR language = 'Spanish')\n",
    "-- Filter films with more than $2,000,000 gross\n",
    "\tand (gross > 2000000);"
   ]
  },
  {
   "cell_type": "code",
   "execution_count": null,
   "id": "a482ef5f-f498-427a-9c47-87e37207f770",
   "metadata": {
    "customType": "sql",
    "dataFrameVariableName": "df2",
    "sqlCellMode": "dataFrame",
    "sqlSource": {
     "integrationId": "c632441c-e1dc-4637-a56d-10b85efd89be",
     "type": "integration"
    }
   },
   "outputs": [],
   "source": [
    "-- Select the title and release_year for films released between 1990 and 2000\n",
    "select title, release_year\n",
    "from films\n",
    "where \n",
    "    release_year between 1990 and 2000;"
   ]
  },
  {
   "cell_type": "code",
   "execution_count": null,
   "id": "c2e3b62f-94b1-4e2a-b0df-35abcb12e19c",
   "metadata": {
    "customType": "sql",
    "dataFrameVariableName": "df",
    "sqlCellMode": "dataFrame",
    "sqlSource": {
     "integrationId": "c632441c-e1dc-4637-a56d-10b85efd89be",
     "type": "integration"
    }
   },
   "outputs": [],
   "source": [
    "SELECT title, release_year\n",
    "FROM films\n",
    "WHERE release_year BETWEEN 1990 AND 2000\n",
    "-- Narrow down your query to films with budgets > $100 million\n",
    "\tand budget > 100000000;"
   ]
  },
  {
   "cell_type": "code",
   "execution_count": null,
   "id": "69c169c4-5e8d-4e6d-9ead-6e451ad06f8e",
   "metadata": {
    "customType": "sql",
    "dataFrameVariableName": "df1",
    "sqlCellMode": "dataFrame",
    "sqlSource": {
     "integrationId": "c632441c-e1dc-4637-a56d-10b85efd89be",
     "type": "integration"
    }
   },
   "outputs": [],
   "source": [
    "SELECT title, release_year\n",
    "FROM films\n",
    "WHERE release_year BETWEEN 1990 AND 2000\n",
    "\tAND budget > 100000000\n",
    "-- Restrict the query to only Spanish-language films\n",
    "\tand language = 'Spanish';"
   ]
  },
  {
   "cell_type": "code",
   "execution_count": null,
   "id": "837316e7-030e-429f-868a-ef35a3350933",
   "metadata": {
    "customType": "sql",
    "dataFrameVariableName": "df3",
    "sqlCellMode": "dataFrame",
    "sqlSource": {
     "integrationId": "c632441c-e1dc-4637-a56d-10b85efd89be",
     "type": "integration"
    }
   },
   "outputs": [],
   "source": [
    "SELECT title, release_year\n",
    "FROM films\n",
    "WHERE release_year BETWEEN 1990 AND 2000\n",
    "\tAND budget > 100000000\n",
    "-- Amend the query to include Spanish or French-language films\n",
    "\tAND (language = 'Spanish' or language = 'French');"
   ]
  },
  {
   "cell_type": "code",
   "execution_count": null,
   "id": "29dd856b-1636-4eff-b856-e335cb19cb16",
   "metadata": {
    "customType": "sql",
    "dataFrameVariableName": "df4",
    "sqlCellMode": "dataFrame",
    "sqlSource": {
     "integrationId": "c632441c-e1dc-4637-a56d-10b85efd89be",
     "type": "integration"
    }
   },
   "outputs": [],
   "source": [
    "-- Select the names that start with B\n",
    "select name\n",
    "from people\n",
    "where name like 'B%';\n",
    "\n",
    "SELECT name\n",
    "FROM people\n",
    "-- Select the names that have r as the second letter\n",
    "where name like '_r%';\n",
    "\n",
    "SELECT name\n",
    "FROM people\n",
    "-- Select names that don't start with A\n",
    "where name NOT LIKE 'A%';"
   ]
  },
  {
   "cell_type": "code",
   "execution_count": null,
   "id": "f9767524-74bf-4b33-b985-044100b7509c",
   "metadata": {
    "customType": "sql",
    "dataFrameVariableName": "df5",
    "sqlCellMode": "dataFrame",
    "sqlSource": {
     "integrationId": "c632441c-e1dc-4637-a56d-10b85efd89be",
     "type": "integration"
    }
   },
   "outputs": [],
   "source": [
    "-- Find the title and release_year for all films over two hours in length released in 1990 and 2000\n",
    "select title, release_year\n",
    "from films\n",
    "where release_year in (1990, 2000)\n",
    "and duration > 120;\n",
    "\n",
    "-- Find the title and language of all films in English, Spanish, and French\n",
    "select title, language\n",
    "from films\n",
    "where language in ('English', 'Spanish', 'French');\n",
    "\n",
    "-- Find the title, certification, and language all films certified NC-17 or R that are in English, Italian, or Greek\n",
    "select title, certification, language\n",
    "from films\n",
    "where certification in ('NC-17', 'R')\n",
    "    and language in ('English', 'Italian', 'Greek');\n",
    "\t\n",
    "-- Count the unique titles\n",
    "SELECT count(distinct title) AS nineties_english_films_for_teens\n",
    "FROM films\n",
    "-- Filter to release_years between 1990 and 1999\n",
    "WHERE release_year BETWEEN 1990 AND 1999\n",
    "-- Filter to English-language films\n",
    "  AND language = 'English'\n",
    "-- Narrow it down to G, PG, and PG-13 certifications\n",
    "  AND certification IN ('G', 'PG', 'PG-13');"
   ]
  },
  {
   "cell_type": "code",
   "execution_count": null,
   "id": "71e9f8d9-0bdd-47c7-81ea-8d1cb900482e",
   "metadata": {
    "customType": "sql",
    "dataFrameVariableName": "df6",
    "sqlCellMode": "dataFrame",
    "sqlSource": {
     "integrationId": "c632441c-e1dc-4637-a56d-10b85efd89be",
     "type": "integration"
    }
   },
   "outputs": [],
   "source": [
    "-- List all film titles with missing budgets\n",
    "select title as no_budget_info\n",
    "from films\n",
    "where budget is null;"
   ]
  },
  {
   "cell_type": "code",
   "execution_count": null,
   "id": "8c1f76a9-c624-45d0-ade8-2a53a64366b8",
   "metadata": {
    "customType": "sql",
    "dataFrameVariableName": "df7",
    "sqlCellMode": "dataFrame",
    "sqlSource": {
     "integrationId": "c632441c-e1dc-4637-a56d-10b85efd89be",
     "type": "integration"
    }
   },
   "outputs": [],
   "source": [
    "-- Count the number of films we have language data for\n",
    "select count(*) as count_language_known\n",
    "from films\n",
    "where language is not null;"
   ]
  }
 ],
 "metadata": {
  "colab": {
   "name": "Welcome to DataCamp Workspaces.ipynb",
   "provenance": []
  },
  "editor": "DataLab",
  "kernelspec": {
   "display_name": "Python 3 (ipykernel)",
   "language": "python",
   "name": "python3"
  },
  "language_info": {
   "codemirror_mode": {
    "name": "ipython",
    "version": 3
   },
   "file_extension": ".py",
   "mimetype": "text/x-python",
   "name": "python",
   "nbconvert_exporter": "python",
   "pygments_lexer": "ipython3",
   "version": "3.11.7"
  }
 },
 "nbformat": 4,
 "nbformat_minor": 5
}
